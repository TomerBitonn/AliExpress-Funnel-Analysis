{
 "cells": [
  {
   "cell_type": "markdown",
   "id": "64d18dc9-db7e-41d3-ac28-372ca59e3ec9",
   "metadata": {},
   "source": [
    "# Part 1: Choose Your Product & Design Funnel"
   ]
  },
  {
   "cell_type": "markdown",
   "id": "0153d595-1d11-4695-83e6-4c5adb559a28",
   "metadata": {},
   "source": [
    "# AliExpress Funnel Analysis"
   ]
  },
  {
   "cell_type": "markdown",
   "id": "8a9e18b4-a320-45af-a723-62edb0a61930",
   "metadata": {},
   "source": [
    "## 1. **Visit Website/App**\n",
    "- **What exactly defines this step?**  \n",
    "  The user opens the AliExpress website or mobile app - this marks the entry point into the user journey.\n",
    "\n",
    "- **Why might users drop off here?**  \n",
    "  - App is slow or crashes  \n",
    "  - Poor first impression (ads, popups)  \n",
    "  - Unclear value proposition or confusing homepage  \n",
    "  - User just opened by mistake or curiosity\n",
    "\n",
    "- **What business value does completing this step create?**  \n",
    "  - Begins the user session  \n",
    "  - Counts as traffic (used in marketing KPIs)  \n",
    "  - Enables retargeting via cookies/push notifications\n",
    "\n",
    "---\n",
    "\n",
    "## 2. **Search for Product**\n",
    "- **What exactly defines this step?**  \n",
    "  User interacts with the search bar or browses product categories.\n",
    "\n",
    "- **Why might users drop off here?**  \n",
    "  - Too many results or poor relevance  \n",
    "  - Overwhelming interface  \n",
    "  - No interesting products or deals\n",
    "\n",
    "- **What business value does completing this step create?**  \n",
    "  - Indicates interest and intent  \n",
    "  - Feeds personalization algorithm  \n",
    "  - Shows demand patterns\n",
    "\n",
    "---\n",
    "\n",
    "## 3. **View Product Page**\t\n",
    "- **What exactly defines this step?**  \n",
    "  The user clicks on a product and lands on its detail page.\n",
    "\n",
    "- **Why might users drop off here?**  \n",
    "  - Bad reviews or low rating  \n",
    "  - Poor product images or description  \n",
    "  - Long shipping time or high shipping cost\n",
    "\n",
    "- **What business value does completing this step create?**  \n",
    "  - High-intent signal  \n",
    "  - Builds user trust through reviews and photos  \n",
    "  - Valuable data for sellers\n",
    "\n",
    "---\n",
    "\n",
    "## 4. **Add to Cart**\n",
    "- **What exactly defines this step?**  \n",
    "  User clicks \"Add to Cart\" or \"Buy Now\" on the product page.\n",
    "\n",
    "- **Why might users drop off here?**  \n",
    "  - Price is too high  \n",
    "  - Needs to register or log in  \n",
    "  - Still comparing options\n",
    "\n",
    "- **What business value does completing this step create?**  \n",
    "  - Strong signal of purchase intent  \n",
    "  - Enables reminder emails and retargeting  \n",
    "  - Helps forecast demand\n",
    "\n",
    "---\n",
    "\n",
    "## 5. **Complete Purchase**\n",
    "- **What exactly defines this step?**  \n",
    "  User completes the checkout process and pays.\n",
    "\n",
    "- **Why might users drop off here?**  \n",
    "  - Complicated checkout  \n",
    "  - Payment failure or delay  \n",
    "  - Unexpected shipping costs\n",
    "\n",
    "- **What business value does completing this step create?**  \n",
    "  - Generates revenue  \n",
    "  - Captures user and transaction data  \n",
    "  - Triggers logistics & seller revenue\n",
    "\n",
    "---\n",
    "\n",
    "## 6. **Leave Review**\n",
    "- **What exactly defines this step?**  \n",
    "  After receiving the item, the user leaves a review or star rating.\n",
    "\n",
    "- **Why might users drop off here?**  \n",
    "  - No motivation to review  \n",
    "  - Review process is long or hidden  \n",
    "  - Forgot about it\n",
    "\n",
    "- **What business value does completing this step create?**  \n",
    "  - Adds social proof  \n",
    "  - Improves product visibility  \n",
    "  - Informs sellers and buyers\n"
   ]
  },
  {
   "cell_type": "markdown",
   "id": "764536a5-d2ac-4493-94b7-f78f74710dc1",
   "metadata": {},
   "source": [
    "# Part 2: Research & Estimate Your Funnel"
   ]
  },
  {
   "cell_type": "code",
   "execution_count": 1,
   "id": "35203bc6-c35e-4cd4-81fe-0ae0c60e52ba",
   "metadata": {},
   "outputs": [],
   "source": [
    "# import libraries\n",
    "import pandas as pd\n",
    "import matplotlib.pyplot as plt\n",
    "import plotly.graph_objects as go"
   ]
  },
  {
   "cell_type": "code",
   "execution_count": 2,
   "id": "fc22c908-3ff0-46dc-bb7f-7bc7a5aaedb7",
   "metadata": {},
   "outputs": [
    {
     "data": {
      "text/html": [
       "<div>\n",
       "<style scoped>\n",
       "    .dataframe tbody tr th:only-of-type {\n",
       "        vertical-align: middle;\n",
       "    }\n",
       "\n",
       "    .dataframe tbody tr th {\n",
       "        vertical-align: top;\n",
       "    }\n",
       "\n",
       "    .dataframe thead th {\n",
       "        text-align: right;\n",
       "    }\n",
       "</style>\n",
       "<table border=\"1\" class=\"dataframe\">\n",
       "  <thead>\n",
       "    <tr style=\"text-align: right;\">\n",
       "      <th></th>\n",
       "      <th>Funnel Step</th>\n",
       "      <th>Users at Step</th>\n",
       "      <th>Step Conversion (%)</th>\n",
       "    </tr>\n",
       "  </thead>\n",
       "  <tbody>\n",
       "    <tr>\n",
       "      <th>0</th>\n",
       "      <td>Visit Website/App</td>\n",
       "      <td>100000</td>\n",
       "      <td></td>\n",
       "    </tr>\n",
       "    <tr>\n",
       "      <th>1</th>\n",
       "      <td>Search for Product</td>\n",
       "      <td>70000</td>\n",
       "      <td>70.0%</td>\n",
       "    </tr>\n",
       "    <tr>\n",
       "      <th>2</th>\n",
       "      <td>View Product Page</td>\n",
       "      <td>40000</td>\n",
       "      <td>57.1%</td>\n",
       "    </tr>\n",
       "    <tr>\n",
       "      <th>3</th>\n",
       "      <td>Add to Cart</td>\n",
       "      <td>15000</td>\n",
       "      <td>37.5%</td>\n",
       "    </tr>\n",
       "    <tr>\n",
       "      <th>4</th>\n",
       "      <td>Complete Purchase</td>\n",
       "      <td>9000</td>\n",
       "      <td>60.0%</td>\n",
       "    </tr>\n",
       "    <tr>\n",
       "      <th>5</th>\n",
       "      <td>Leave Review</td>\n",
       "      <td>2000</td>\n",
       "      <td>22.2%</td>\n",
       "    </tr>\n",
       "  </tbody>\n",
       "</table>\n",
       "</div>"
      ],
      "text/plain": [
       "          Funnel Step  Users at Step Step Conversion (%)\n",
       "0   Visit Website/App         100000                    \n",
       "1  Search for Product          70000               70.0%\n",
       "2   View Product Page          40000               57.1%\n",
       "3         Add to Cart          15000               37.5%\n",
       "4   Complete Purchase           9000               60.0%\n",
       "5        Leave Review           2000               22.2%"
      ]
     },
     "execution_count": 2,
     "metadata": {},
     "output_type": "execute_result"
    }
   ],
   "source": [
    "# Define the funnel data\n",
    "data = {\n",
    "    \"Funnel Step\": [\n",
    "        \"Visit Website/App\",\n",
    "        \"Search for Product\",\n",
    "        \"View Product Page\",\n",
    "        \"Add to Cart\",\n",
    "        \"Complete Purchase\",\n",
    "        \"Leave Review\"\n",
    "    ],\n",
    "    \"Users at Step\": [100000, 70000, 40000, 15000, 9000, 2000],\n",
    "}\n",
    "\n",
    "# Create the DataFrame\n",
    "funnel_df = pd.DataFrame(data)\n",
    "\n",
    "# Calculate step-by-step conversion\n",
    "funnel_df[\"Step Conversion (%)\"] = funnel_df[\"Users at Step\"] / funnel_df[\"Users at Step\"].shift(1) * 100\n",
    "funnel_df[\"Step Conversion (%)\"] = funnel_df[\"Step Conversion (%)\"].round(2)\n",
    "\n",
    "funnel_df[\"Step Conversion (%)\"] = funnel_df[\"Step Conversion (%)\"].apply(lambda x: f\"{x:.1f}%\" if pd.notnull(x) else \"\")\n",
    "\n",
    "# Display the table\n",
    "funnel_df"
   ]
  },
  {
   "cell_type": "markdown",
   "id": "e5e3f494-c3d4-48f5-9c02-c60681a4674f",
   "metadata": {},
   "source": [
    "### Calculate overall conversion from first to last"
   ]
  },
  {
   "cell_type": "code",
   "execution_count": 3,
   "id": "87a822ee-ba7e-4759-bc22-f2cfa6144781",
   "metadata": {},
   "outputs": [
    {
     "name": "stdout",
     "output_type": "stream",
     "text": [
      "Overall funnel conversion: 2.0%\n"
     ]
    }
   ],
   "source": [
    "# Calculate overall conversion from first to last\n",
    "initial = funnel_df[\"Users at Step\"].iloc[0]\n",
    "final = funnel_df[\"Users at Step\"].iloc[-1]\n",
    "overall_conversion = final / initial * 100\n",
    "overall_conversion = round(overall_conversion, 2)\n",
    "\n",
    "print(f\"Overall funnel conversion: {overall_conversion}%\")"
   ]
  },
  {
   "cell_type": "markdown",
   "id": "22c4066a-49ac-4a01-9ea9-835a015fc522",
   "metadata": {},
   "source": [
    "### Add Drop Off to the table"
   ]
  },
  {
   "cell_type": "code",
   "execution_count": 4,
   "id": "5d7c7c66-b54d-4adc-a07a-5597bd0a156c",
   "metadata": {},
   "outputs": [
    {
     "data": {
      "text/html": [
       "<div>\n",
       "<style scoped>\n",
       "    .dataframe tbody tr th:only-of-type {\n",
       "        vertical-align: middle;\n",
       "    }\n",
       "\n",
       "    .dataframe tbody tr th {\n",
       "        vertical-align: top;\n",
       "    }\n",
       "\n",
       "    .dataframe thead th {\n",
       "        text-align: right;\n",
       "    }\n",
       "</style>\n",
       "<table border=\"1\" class=\"dataframe\">\n",
       "  <thead>\n",
       "    <tr style=\"text-align: right;\">\n",
       "      <th></th>\n",
       "      <th>Funnel Step</th>\n",
       "      <th>Users at Step</th>\n",
       "      <th>Step Conversion (%)</th>\n",
       "      <th>Drop-off (%)</th>\n",
       "    </tr>\n",
       "  </thead>\n",
       "  <tbody>\n",
       "    <tr>\n",
       "      <th>0</th>\n",
       "      <td>Visit Website/App</td>\n",
       "      <td>100000</td>\n",
       "      <td></td>\n",
       "      <td></td>\n",
       "    </tr>\n",
       "    <tr>\n",
       "      <th>1</th>\n",
       "      <td>Search for Product</td>\n",
       "      <td>70000</td>\n",
       "      <td>70.0%</td>\n",
       "      <td>30.0%</td>\n",
       "    </tr>\n",
       "    <tr>\n",
       "      <th>2</th>\n",
       "      <td>View Product Page</td>\n",
       "      <td>40000</td>\n",
       "      <td>57.1%</td>\n",
       "      <td>42.9%</td>\n",
       "    </tr>\n",
       "    <tr>\n",
       "      <th>3</th>\n",
       "      <td>Add to Cart</td>\n",
       "      <td>15000</td>\n",
       "      <td>37.5%</td>\n",
       "      <td>62.5%</td>\n",
       "    </tr>\n",
       "    <tr>\n",
       "      <th>4</th>\n",
       "      <td>Complete Purchase</td>\n",
       "      <td>9000</td>\n",
       "      <td>60.0%</td>\n",
       "      <td>40.0%</td>\n",
       "    </tr>\n",
       "    <tr>\n",
       "      <th>5</th>\n",
       "      <td>Leave Review</td>\n",
       "      <td>2000</td>\n",
       "      <td>22.2%</td>\n",
       "      <td>77.8%</td>\n",
       "    </tr>\n",
       "  </tbody>\n",
       "</table>\n",
       "</div>"
      ],
      "text/plain": [
       "          Funnel Step  Users at Step Step Conversion (%) Drop-off (%)\n",
       "0   Visit Website/App         100000                                 \n",
       "1  Search for Product          70000               70.0%        30.0%\n",
       "2   View Product Page          40000               57.1%        42.9%\n",
       "3         Add to Cart          15000               37.5%        62.5%\n",
       "4   Complete Purchase           9000               60.0%        40.0%\n",
       "5        Leave Review           2000               22.2%        77.8%"
      ]
     },
     "execution_count": 4,
     "metadata": {},
     "output_type": "execute_result"
    }
   ],
   "source": [
    "funnel_df[\"Drop-off (%)\"] = 100 - (funnel_df[\"Users at Step\"] / funnel_df[\"Users at Step\"].shift(1) * 100)\n",
    "funnel_df[\"Drop-off (%)\"] = funnel_df[\"Drop-off (%)\"].round(2)\n",
    "funnel_df.loc[0, \"Drop-off (%)\"] = None\n",
    "funnel_df[\"Drop-off (%)\"] = funnel_df[\"Drop-off (%)\"].apply(lambda x: f\"{x:.1f}%\" if pd.notnull(x) else \"\")\n",
    "\n",
    "# Display the table\n",
    "funnel_df"
   ]
  },
  {
   "cell_type": "markdown",
   "id": "abcf50e3-f795-48d4-89a4-70c843944fad",
   "metadata": {},
   "source": [
    "### Biggest Drop Off"
   ]
  },
  {
   "cell_type": "code",
   "execution_count": 5,
   "id": "13db75ef-4746-47fe-8305-7ff87d2e8aea",
   "metadata": {},
   "outputs": [
    {
     "name": "stdout",
     "output_type": "stream",
     "text": [
      "Biggest drop-off is between step 5 → 'Leave Review' (77.8%%)\n"
     ]
    }
   ],
   "source": [
    "# Find the step with the biggest drop\n",
    "max_drop_index = funnel_df[\"Drop-off (%)\"].idxmax()\n",
    "worst_step = funnel_df.loc[max_drop_index, \"Funnel Step\"]\n",
    "worst_drop = funnel_df.loc[max_drop_index, \"Drop-off (%)\"]\n",
    "\n",
    "print(f\"Biggest drop-off is between step {max_drop_index} → '{worst_step}' ({worst_drop}%)\")"
   ]
  },
  {
   "cell_type": "markdown",
   "id": "9bfd6c08-6422-4828-81a4-970f11bdfa39",
   "metadata": {},
   "source": [
    "### Visualizations"
   ]
  },
  {
   "cell_type": "code",
   "execution_count": 6,
   "id": "d7b79d5a-f6d3-4f0b-ba7d-681756759471",
   "metadata": {
    "scrolled": true
   },
   "outputs": [
    {
     "data": {
      "image/png": "[encoded data removed]",
      "text/plain": [
       "<Figure size 1000x600 with 1 Axes>"
      ]
     },
     "metadata": {},
     "output_type": "display_data"
    }
   ],
   "source": [
    "# Data\n",
    "steps = funnel_df[\"Funnel Step\"]\n",
    "users = funnel_df[\"Users at Step\"]\n",
    "\n",
    "# Reverse the order so that the funnel is \"top to bottom\"\n",
    "steps = steps[::-1]\n",
    "users = users[::-1]\n",
    "\n",
    "# Plot\n",
    "plt.figure(figsize=(10, 6))\n",
    "bars = plt.barh(steps, users, color='skyblue', edgecolor='black')\n",
    "\n",
    "# Add value labels to the bars\n",
    "for bar in bars:\n",
    "    width = bar.get_width()\n",
    "    plt.text(width + 500, bar.get_y() + bar.get_height() / 2,\n",
    "             f\"{int(width):,}\", va='center', fontsize=10)\n",
    "\n",
    "# Titles and labels\n",
    "plt.title(\"AliExpress Funnel Analysis\", fontsize=14)\n",
    "plt.xlabel(\"Number of Users\")\n",
    "plt.tight_layout()\n",
    "plt.grid(axis='x', linestyle='--', alpha=0.5)\n",
    "\n",
    "plt.show()\n"
   ]
  },
  {
   "cell_type": "code",
   "execution_count": 8,
   "id": "86786757-897e-43c0-bfa8-f7e58d936778",
   "metadata": {},
   "outputs": [
    {
     "data": {
      "application/vnd.plotly.v1+json": {
       "config": {
        "plotlyServerURL": "https://plot.ly"
       },
       "data": [
        {
         "marker": {
          "color": "royalblue"
         },
         "textinfo": "value+percent previous",
         "type": "funnel",
         "x": [
          100000,
          70000,
          40000,
          15000,
          9000,
          2000
         ],
         "y": [
          "Visit Website/App",
          "Search for Product",
          "View Product Page",
          "Add to Cart",
          "Complete Purchase",
          "Leave Review"
         ]
        }
       ],
       "layout": {
        "template": {
         "data": {
          "bar": [
           {
            "error_x": {
             "color": "#2a3f5f"
            },
            "error_y": {
             "color": "#2a3f5f"
            },
            "marker": {
             "line": {
              "color": "#E5ECF6",
              "width": 0.5
             },
             "pattern": {
              "fillmode": "overlay",
              "size": 10,
              "solidity": 0.2
             }
            },
            "type": "bar"
           }
          ],
          "barpolar": [
           {
            "marker": {
             "line": {
              "color": "#E5ECF6",
              "width": 0.5
             },
             "pattern": {
              "fillmode": "overlay",
              "size": 10,
              "solidity": 0.2
             }
            },
            "type": "barpolar"
           }
          ],
          "carpet": [
           {
            "aaxis": {
             "endlinecolor": "#2a3f5f",
             "gridcolor": "white",
             "linecolor": "white",
             "minorgridcolor": "white",
             "startlinecolor": "#2a3f5f"
            },
            "baxis": {
             "endlinecolor": "#2a3f5f",
             "gridcolor": "white",
             "linecolor": "white",
             "minorgridcolor": "white",
             "startlinecolor": "#2a3f5f"
            },
            "type": "carpet"
           }
          ],
          "choropleth": [
           {
            "colorbar": {
             "outlinewidth": 0,
             "ticks": ""
            },
            "type": "choropleth"
           }
          ],
          "contour": [
           {
            "colorbar": {
             "outlinewidth": 0,
             "ticks": ""
            },
            "colorscale": [
             [
              0,
              "#0d0887"
             ],
             [
              0.1111111111111111,
              "#46039f"
             ],
             [
              0.2222222222222222,
              "#7201a8"
             ],
             [
              0.3333333333333333,
              "#9c179e"
             ],
             [
              0.4444444444444444,
              "#bd3786"
             ],
             [
              0.5555555555555556,
              "#d8576b"
             ],
             [
              0.6666666666666666,
              "#ed7953"
             ],
             [
              0.7777777777777778,
              "#fb9f3a"
             ],
             [
              0.8888888888888888,
              "#fdca26"
             ],
             [
              1,
              "#f0f921"
             ]
            ],
            "type": "contour"
           }
          ],
          "contourcarpet": [
           {
            "colorbar": {
             "outlinewidth": 0,
             "ticks": ""
            },
            "type": "contourcarpet"
           }
          ],
          "heatmap": [
           {
            "colorbar": {
             "outlinewidth": 0,
             "ticks": ""
            },
            "colorscale": [
             [
              0,
              "#0d0887"
             ],
             [
              0.1111111111111111,
              "#46039f"
             ],
             [
              0.2222222222222222,
              "#7201a8"
             ],
             [
              0.3333333333333333,
              "#9c179e"
             ],
             [
              0.4444444444444444,
              "#bd3786"
             ],
             [
              0.5555555555555556,
              "#d8576b"
             ],
             [
              0.6666666666666666,
              "#ed7953"
             ],
             [
              0.7777777777777778,
              "#fb9f3a"
             ],
             [
              0.8888888888888888,
              "#fdca26"
             ],
             [
              1,
              "#f0f921"
             ]
            ],
            "type": "heatmap"
           }
          ],
          "heatmapgl": [
           {
            "colorbar": {
             "outlinewidth": 0,
             "ticks": ""
            },
            "colorscale": [
             [
              0,
              "#0d0887"
             ],
             [
              0.1111111111111111,
              "#46039f"
             ],
             [
              0.2222222222222222,
              "#7201a8"
             ],
             [
              0.3333333333333333,
              "#9c179e"
             ],
             [
              0.4444444444444444,
              "#bd3786"
             ],
             [
              0.5555555555555556,
              "#d8576b"
             ],
             [
              0.6666666666666666,
              "#ed7953"
             ],
             [
              0.7777777777777778,
              "#fb9f3a"
             ],
             [
              0.8888888888888888,
              "#fdca26"
             ],
             [
              1,
              "#f0f921"
             ]
            ],
            "type": "heatmapgl"
           }
          ],
          "histogram": [
           {
            "marker": {
             "pattern": {
              "fillmode": "overlay",
              "size": 10,
              "solidity": 0.2
             }
            },
            "type": "histogram"
           }
          ],
          "histogram2d": [
           {
            "colorbar": {
             "outlinewidth": 0,
             "ticks": ""
            },
            "colorscale": [
             [
              0,
              "#0d0887"
             ],
             [
              0.1111111111111111,
              "#46039f"
             ],
             [
              0.2222222222222222,
              "#7201a8"
             ],
             [
              0.3333333333333333,
              "#9c179e"
             ],
             [
              0.4444444444444444,
              "#bd3786"
             ],
             [
              0.5555555555555556,
              "#d8576b"
             ],
             [
              0.6666666666666666,
              "#ed7953"
             ],
             [
              0.7777777777777778,
              "#fb9f3a"
             ],
             [
              0.8888888888888888,
              "#fdca26"
             ],
             [
              1,
              "#f0f921"
             ]
            ],
            "type": "histogram2d"
           }
          ],
          "histogram2dcontour": [
           {
            "colorbar": {
             "outlinewidth": 0,
             "ticks": ""
            },
            "colorscale": [
             [
              0,
              "#0d0887"
             ],
             [
              0.1111111111111111,
              "#46039f"
             ],
             [
              0.2222222222222222,
              "#7201a8"
             ],
             [
              0.3333333333333333,
              "#9c179e"
             ],
             [
              0.4444444444444444,
              "#bd3786"
             ],
             [
              0.5555555555555556,
              "#d8576b"
             ],
             [
              0.6666666666666666,
              "#ed7953"
             ],
             [
              0.7777777777777778,
              "#fb9f3a"
             ],
             [
              0.8888888888888888,
              "#fdca26"
             ],
             [
              1,
              "#f0f921"
             ]
            ],
            "type": "histogram2dcontour"
           }
          ],
          "mesh3d": [
           {
            "colorbar": {
             "outlinewidth": 0,
             "ticks": ""
            },
            "type": "mesh3d"
           }
          ],
          "parcoords": [
           {
            "line": {
             "colorbar": {
              "outlinewidth": 0,
              "ticks": ""
             }
            },
            "type": "parcoords"
           }
          ],
          "pie": [
           {
            "automargin": true,
            "type": "pie"
           }
          ],
          "scatter": [
           {
            "fillpattern": {
             "fillmode": "overlay",
             "size": 10,
             "solidity": 0.2
            },
            "type": "scatter"
           }
          ],
          "scatter3d": [
           {
            "line": {
             "colorbar": {
              "outlinewidth": 0,
              "ticks": ""
             }
            },
            "marker": {
             "colorbar": {
              "outlinewidth": 0,
              "ticks": ""
             }
            },
            "type": "scatter3d"
           }
          ],
          "scattercarpet": [
           {
            "marker": {
             "colorbar": {
              "outlinewidth": 0,
              "ticks": ""
             }
            },
            "type": "scattercarpet"
           }
          ],
          "scattergeo": [
           {
            "marker": {
             "colorbar": {
              "outlinewidth": 0,
              "ticks": ""
             }
            },
            "type": "scattergeo"
           }
          ],
          "scattergl": [
           {
            "marker": {
             "colorbar": {
              "outlinewidth": 0,
              "ticks": ""
             }
            },
            "type": "scattergl"
           }
          ],
          "scattermapbox": [
           {
            "marker": {
             "colorbar": {
              "outlinewidth": 0,
              "ticks": ""
             }
            },
            "type": "scattermapbox"
           }
          ],
          "scatterpolar": [
           {
            "marker": {
             "colorbar": {
              "outlinewidth": 0,
              "ticks": ""
             }
            },
            "type": "scatterpolar"
           }
          ],
          "scatterpolargl": [
           {
            "marker": {
             "colorbar": {
              "outlinewidth": 0,
              "ticks": ""
             }
            },
            "type": "scatterpolargl"
           }
          ],
          "scatterternary": [
           {
            "marker": {
             "colorbar": {
              "outlinewidth": 0,
              "ticks": ""
             }
            },
            "type": "scatterternary"
           }
          ],
          "surface": [
           {
            "colorbar": {
             "outlinewidth": 0,
             "ticks": ""
            },
            "colorscale": [
             [
              0,
              "#0d0887"
             ],
             [
              0.1111111111111111,
              "#46039f"
             ],
             [
              0.2222222222222222,
              "#7201a8"
             ],
             [
              0.3333333333333333,
              "#9c179e"
             ],
             [
              0.4444444444444444,
              "#bd3786"
             ],
             [
              0.5555555555555556,
              "#d8576b"
             ],
             [
              0.6666666666666666,
              "#ed7953"
             ],
             [
              0.7777777777777778,
              "#fb9f3a"
             ],
             [
              0.8888888888888888,
              "#fdca26"
             ],
             [
              1,
              "#f0f921"
             ]
            ],
            "type": "surface"
           }
          ],
          "table": [
           {
            "cells": {
             "fill": {
              "color": "#EBF0F8"
             },
             "line": {
              "color": "white"
             }
            },
            "header": {
             "fill": {
              "color": "#C8D4E3"
             },
             "line": {
              "color": "white"
             }
            },
            "type": "table"
           }
          ]
         },
         "layout": {
          "annotationdefaults": {
           "arrowcolor": "#2a3f5f",
           "arrowhead": 0,
           "arrowwidth": 1
          },
          "autotypenumbers": "strict",
          "coloraxis": {
           "colorbar": {
            "outlinewidth": 0,
            "ticks": ""
           }
          },
          "colorscale": {
           "diverging": [
            [
             0,
             "#8e0152"
            ],
            [
             0.1,
             "#c51b7d"
            ],
            [
             0.2,
             "#de77ae"
            ],
            [
             0.3,
             "#f1b6da"
            ],
            [
             0.4,
             "#fde0ef"
            ],
            [
             0.5,
             "#f7f7f7"
            ],
            [
             0.6,
             "#e6f5d0"
            ],
            [
             0.7,
             "#b8e186"
            ],
            [
             0.8,
             "#7fbc41"
            ],
            [
             0.9,
             "#4d9221"
            ],
            [
             1,
             "#276419"
            ]
           ],
           "sequential": [
            [
             0,
             "#0d0887"
            ],
            [
             0.1111111111111111,
             "#46039f"
            ],
            [
             0.2222222222222222,
             "#7201a8"
            ],
            [
             0.3333333333333333,
             "#9c179e"
            ],
            [
             0.4444444444444444,
             "#bd3786"
            ],
            [
             0.5555555555555556,
             "#d8576b"
            ],
            [
             0.6666666666666666,
             "#ed7953"
            ],
            [
             0.7777777777777778,
             "#fb9f3a"
            ],
            [
             0.8888888888888888,
             "#fdca26"
            ],
            [
             1,
             "#f0f921"
            ]
           ],
           "sequentialminus": [
            [
             0,
             "#0d0887"
            ],
            [
             0.1111111111111111,
             "#46039f"
            ],
            [
             0.2222222222222222,
             "#7201a8"
            ],
            [
             0.3333333333333333,
             "#9c179e"
            ],
            [
             0.4444444444444444,
             "#bd3786"
            ],
            [
             0.5555555555555556,
             "#d8576b"
            ],
            [
             0.6666666666666666,
             "#ed7953"
            ],
            [
             0.7777777777777778,
             "#fb9f3a"
            ],
            [
             0.8888888888888888,
             "#fdca26"
            ],
            [
             1,
             "#f0f921"
            ]
           ]
          },
          "colorway": [
           "#636efa",
           "#EF553B",
           "#00cc96",
           "#ab63fa",
           "#FFA15A",
           "#19d3f3",
           "#FF6692",
           "#B6E880",
           "#FF97FF",
           "#FECB52"
          ],
          "font": {
           "color": "#2a3f5f"
          },
          "geo": {
           "bgcolor": "white",
           "lakecolor": "white",
           "landcolor": "#E5ECF6",
           "showlakes": true,
           "showland": true,
           "subunitcolor": "white"
          },
          "hoverlabel": {
           "align": "left"
          },
          "hovermode": "closest",
          "mapbox": {
           "style": "light"
          },
          "paper_bgcolor": "white",
          "plot_bgcolor": "#E5ECF6",
          "polar": {
           "angularaxis": {
            "gridcolor": "white",
            "linecolor": "white",
            "ticks": ""
           },
           "bgcolor": "#E5ECF6",
           "radialaxis": {
            "gridcolor": "white",
            "linecolor": "white",
            "ticks": ""
           }
          },
          "scene": {
           "xaxis": {
            "backgroundcolor": "#E5ECF6",
            "gridcolor": "white",
            "gridwidth": 2,
            "linecolor": "white",
            "showbackground": true,
            "ticks": "",
            "zerolinecolor": "white"
           },
           "yaxis": {
            "backgroundcolor": "#E5ECF6",
            "gridcolor": "white",
            "gridwidth": 2,
            "linecolor": "white",
            "showbackground": true,
            "ticks": "",
            "zerolinecolor": "white"
           },
           "zaxis": {
            "backgroundcolor": "#E5ECF6",
            "gridcolor": "white",
            "gridwidth": 2,
            "linecolor": "white",
            "showbackground": true,
            "ticks": "",
            "zerolinecolor": "white"
           }
          },
          "shapedefaults": {
           "line": {
            "color": "#2a3f5f"
           }
          },
          "ternary": {
           "aaxis": {
            "gridcolor": "white",
            "linecolor": "white",
            "ticks": ""
           },
           "baxis": {
            "gridcolor": "white",
            "linecolor": "white",
            "ticks": ""
           },
           "bgcolor": "#E5ECF6",
           "caxis": {
            "gridcolor": "white",
            "linecolor": "white",
            "ticks": ""
           }
          },
          "title": {
           "x": 0.05
          },
          "xaxis": {
           "automargin": true,
           "gridcolor": "white",
           "linecolor": "white",
           "ticks": "",
           "title": {
            "standoff": 15
           },
           "zerolinecolor": "white",
           "zerolinewidth": 2
          },
          "yaxis": {
           "automargin": true,
           "gridcolor": "white",
           "linecolor": "white",
           "ticks": "",
           "title": {
            "standoff": 15
           },
           "zerolinecolor": "white",
           "zerolinewidth": 2
          }
         }
        },
        "title": {
         "text": "AliExpress Funnel Analysis (Interactive)"
        }
       }
      }
     },
     "metadata": {},
     "output_type": "display_data"
    }
   ],
   "source": [
    "# Funnel data \n",
    "stages = [\n",
    "    \"Visit Website/App\",\n",
    "    \"Search for Product\",\n",
    "    \"View Product Page\",\n",
    "    \"Add to Cart\",\n",
    "    \"Complete Purchase\",\n",
    "    \"Leave Review\"\n",
    "]\n",
    "\n",
    "values = [100000, 70000, 40000, 15000, 9000, 2000]\n",
    "\n",
    "# Create the funnel chart\n",
    "fig = go.Figure(go.Funnel(\n",
    "    y=stages,\n",
    "    x=values,\n",
    "    textinfo=\"value+percent previous\",  # Show actual values + percentage from first step\n",
    "    marker={\"color\": \"royalblue\"}\n",
    "))\n",
    "\n",
    "fig.update_layout(title='AliExpress Funnel Analysis (Interactive)')\n",
    "fig.show()\n"
   ]
  }
 ],
 "metadata": {
  "kernelspec": {
   "display_name": "base",
   "language": "python",
   "name": "python3"
  },
  "language_info": {
   "codemirror_mode": {
    "name": "ipython",
    "version": 3
   },
   "file_extension": ".py",
   "mimetype": "text/x-python",
   "name": "python",
   "nbconvert_exporter": "python",
   "pygments_lexer": "ipython3",
   "version": "3.12.7"
  }
 },
 "nbformat": 4,
 "nbformat_minor": 5
}
